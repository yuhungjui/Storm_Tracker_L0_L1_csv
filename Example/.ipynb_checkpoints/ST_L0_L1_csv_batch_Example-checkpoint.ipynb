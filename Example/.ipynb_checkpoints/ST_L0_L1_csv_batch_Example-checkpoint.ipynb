{
 "cells": [
  {
   "cell_type": "markdown",
   "id": "d7c28eb6",
   "metadata": {},
   "source": [
    "<br>Transform Storm Tracker L0 data to L1 csv format file (batch mode).<br>\n",
    "Hungjui Yu<br>\n",
    "20210715<br>"
   ]
  },
  {
   "cell_type": "code",
   "execution_count": 21,
   "id": "f4c317a4",
   "metadata": {},
   "outputs": [
    {
     "name": "stdout",
     "output_type": "stream",
     "text": [
      "Once deleted, variables cannot be recovered. Proceed (y/[n])? y\n"
     ]
    }
   ],
   "source": [
    "%reset\n",
    "\n",
    "import time\n",
    "import pandas as pd\n",
    "import datetime as dt\n",
    "import pytz\n",
    "# import metpy.calc as mpcalc\n",
    "from metpy.calc import dewpoint_from_relative_humidity\n",
    "from metpy.units import units"
   ]
  },
  {
   "cell_type": "code",
   "execution_count": 37,
   "id": "f736ddbd",
   "metadata": {},
   "outputs": [],
   "source": [
    "# # Set ST node number:\n",
    "# ST_no = 2968\n",
    "\n",
    "# # Set ST launch time (UTC):\n",
    "# launch_time_from_log = '20210503184852'\n",
    "\n",
    "# # Set ST files path:\n",
    "# ST_file_path = './'\n",
    "\n",
    "# Set ST_info file path:\n",
    "# ST_info_file = './log_online.xlsx'\n",
    "ST_info_file = './log_online.csv'\n",
    "\n",
    "# Set ST L0 files path:\n",
    "ST_L0_file_path = '/Users/yuhungjui/GoogleDrive_CSU/Research/CSU_2021/PRECIP_2021/StormTracker/Data/L0'\n"
   ]
  },
  {
   "cell_type": "code",
   "execution_count": 23,
   "id": "836aab8b",
   "metadata": {},
   "outputs": [],
   "source": [
    "# Set output path:\n",
    "\n",
    "output_path = '/Users/yuhungjui/GoogleDrive_CSU/Research/CSU_2021/PRECIP_2021/StormTracker/Data/L1_csv'\n",
    "\n",
    "# Set final date of launches:\n",
    "\n",
    "final_date = dt.datetime(2021,6,25)\n"
   ]
  },
  {
   "cell_type": "code",
   "execution_count": 24,
   "id": "5ddc3fc1",
   "metadata": {},
   "outputs": [],
   "source": [
    "def read_in_ST_info(log_file):\n",
    "    \n",
    "    # ST_log = pd.read_excel(log_file)\n",
    "    # ST_log = pd.read_excel(log_file, engine='openpyxl')\n",
    "    ST_log = pd.read_csv(log_file)\n",
    "    \n",
    "    return ST_log\n",
    "\n",
    "# ST_info = read_in_ST_info(ST_info_file)\n",
    "# print(type(ST_info))\n",
    "# ST_info.head()"
   ]
  },
  {
   "cell_type": "code",
   "execution_count": 49,
   "id": "ff67edea",
   "metadata": {},
   "outputs": [],
   "source": [
    "def load_st_file(ST_no, launch_time_from_log, ST_file_path):    \n",
    "    \n",
    "    # Specified timezones:\n",
    "    # pytz.all_timezones\n",
    "    tz_utc = pytz.timezone('UTC')\n",
    "    tz_fc = pytz.timezone('US/Mountain')\n",
    "\n",
    "    # Specified the launch time in UTC:\n",
    "    launch_time = dt.datetime.strptime(launch_time_from_log, '%Y%m%d%H%M%S')\n",
    "    launch_time_utc = tz_utc.localize(launch_time)\n",
    "\n",
    "    # print(launch_time_utc)\n",
    "    # print(launch_time_from_log[:8])\n",
    "    \n",
    "    # Load raw data:\n",
    "    L0_raw_data = pd.read_csv(ST_file_path + '/no_{}.csv'.format(ST_no))\n",
    "    \n",
    "    return launch_time_utc, L0_raw_data"
   ]
  },
  {
   "cell_type": "code",
   "execution_count": 66,
   "id": "94296843",
   "metadata": {},
   "outputs": [],
   "source": [
    "def conversion_L0_L1(loaded_ST_file):\n",
    "\n",
    "    launch_time_utc = loaded_ST_file[0]\n",
    "    L0_raw_data = loaded_ST_file[1]\n",
    "    \n",
    "    tz_utc = pytz.timezone('UTC')\n",
    "\n",
    "    # Convert the data time to datetime object:\n",
    "    L0_raw_data['Time'] = pd.to_datetime(L0_raw_data['Time'], utc=tz_utc)\n",
    "\n",
    "    # Calculate dew-point temperature in raw data:\n",
    "    L0_raw_data['dT(degC)'] = dewpoint_from_relative_humidity((L0_raw_data['Temperature(degree C)'].to_numpy() * units.degC).to(units.K), L0_raw_data['Humidity(%)'].to_numpy() / 100.)\n",
    "\n",
    "    # Convert wind speed in raw data:\n",
    "    # L0_raw_data['WS(kts)'] = (L0_raw_data['Speed(km/hr)'].to_numpy() * units.kilometer_per_hour).to(units.knot)\n",
    "    L0_raw_data['WS(m/s)'] = (L0_raw_data['Speed(km/hr)'].to_numpy() * units.kilometer_per_hour).to(units.meter_per_second)\n",
    "\n",
    "    # Convert wind direction in raw data:\n",
    "    L0_raw_data.loc[L0_raw_data['Direction(degree)'] <= 180, 'WDIR'] = L0_raw_data['Direction(degree)'] + 180\n",
    "    L0_raw_data.loc[L0_raw_data['Direction(degree)'] > 180, 'WDIR'] = L0_raw_data['Direction(degree)'] - 180\n",
    "    L0_raw_data.loc[L0_raw_data['Speed(km/hr)'] == 0, 'WDIR'] = 0\n",
    "    \n",
    "    # Find the index of launch time and convert L0 to L1 data:\n",
    "    L1_data = L0_raw_data[L0_raw_data['Time'] >= launch_time_utc]\n",
    "    \n",
    "    # Set Time(sec) in L1 data:\n",
    "    L1_data['Time(sec)'] = (L1_data['Time']-launch_time_utc).dt.total_seconds()\n",
    "    # L1_data['Time(sec)'] = (L1_data['Time']-launch_time_utc).astype('timedelta64[s]')\n",
    "    \n",
    "    return L1_data"
   ]
  },
  {
   "cell_type": "code",
   "execution_count": 27,
   "id": "ea62dd3d",
   "metadata": {},
   "outputs": [],
   "source": [
    "def output_L1(loaded_ST_file, L1_data, L1_csv_filename):\n",
    "\n",
    "    # Output L1 data (csv format):\n",
    "\n",
    "    with open(L1_csv_filename, 'w') as file:\n",
    "\n",
    "        # Required fields:\n",
    "        file.write('FileFormat,CSV\\n')\n",
    "        file.write('Year,{}\\n'.format(loaded_ST_file[0].year))\n",
    "        file.write('Month,{:02d}\\n'.format(loaded_ST_file[0].month))\n",
    "        file.write('Day,{:02d}\\n'.format(loaded_ST_file[0].day))\n",
    "        file.write('Hour,{:02d}\\n'.format(loaded_ST_file[0].hour))\n",
    "        file.write('Minute,{:02d}\\n'.format(loaded_ST_file[0].minute))\n",
    "        file.write('Second,{:02d}\\n'.format(loaded_ST_file[0].second))\n",
    "\n",
    "        file.write('Ascending,\"true\"\\n')\n",
    "\n",
    "        # Optional fields:\n",
    "        file.write('latitude,40.590000,\"units=deg\"\\n')\n",
    "        file.write('longitude,-105.141500,\"units=deg\"\\n')\n",
    "        file.write('altitude,1571.9,\"units=m\"\\n')\n",
    "        file.write('gpsaltitude,1571.9,\"units=m\"\\n')\n",
    "        file.write('project,\"PRE-CIP-2021\"\\n')\n",
    "        file.write('agency,\"CSU\"\\n')\n",
    "        file.write('sondeid,\"{}\"\\n'.format(ST_no))\n",
    "        file.write('sondetype,\"Storm Tracker\"\\n')\n",
    "        file.write('launchsite,\"Christman Field\"\\n')\n",
    "\n",
    "        # Data headers:\n",
    "        file.write('Fields,Time,Pressure,Temperature,RH,Speed,Direction,Latitude,Longitude,Altitude,gpsalt\\n')\n",
    "        file.write('Units,sec,mb,deg C,%,m/s,deg,deg,deg,m,m\\n')\n",
    "\n",
    "        # Data fields:\n",
    "\n",
    "        for index, row in L1_data.iterrows():\n",
    "\n",
    "            file.write('Data,%6.1f,%7.2f,%5.2f,%5.2f,%6.2f,%6.2f,%9.5f,%9.5f,,%7.1f\\n'\\\n",
    "                       % (row['Time(sec)']\\\n",
    "                        , row['Pressure(hPa)']\\\n",
    "                        , row['Temperature(degree C)']\\\n",
    "                        , row['Humidity(%)']\\\n",
    "                        , row['WS(m/s)']\\\n",
    "                        , row['Direction(degree)']\\\n",
    "                        , row['Lat']\\\n",
    "                        , row['Lon']\\\n",
    "                        , row['Height(m)']\\\n",
    "                         )\\\n",
    "                      )"
   ]
  },
  {
   "cell_type": "code",
   "execution_count": 67,
   "id": "41a60212",
   "metadata": {},
   "outputs": [
    {
     "name": "stderr",
     "output_type": "stream",
     "text": [
      "<ipython-input-66-eeb81d20a1fc>:27: SettingWithCopyWarning: \n",
      "A value is trying to be set on a copy of a slice from a DataFrame.\n",
      "Try using .loc[row_indexer,col_indexer] = value instead\n",
      "\n",
      "See the caveats in the documentation: https://pandas.pydata.org/pandas-docs/stable/user_guide/indexing.html#returning-a-view-versus-a-copy\n",
      "  L1_data['Time(sec)'] = (L1_data['Time']-launch_time_utc).dt.total_seconds()\n",
      "<ipython-input-66-eeb81d20a1fc>:27: SettingWithCopyWarning: \n",
      "A value is trying to be set on a copy of a slice from a DataFrame.\n",
      "Try using .loc[row_indexer,col_indexer] = value instead\n",
      "\n",
      "See the caveats in the documentation: https://pandas.pydata.org/pandas-docs/stable/user_guide/indexing.html#returning-a-view-versus-a-copy\n",
      "  L1_data['Time(sec)'] = (L1_data['Time']-launch_time_utc).dt.total_seconds()\n",
      "<ipython-input-66-eeb81d20a1fc>:27: SettingWithCopyWarning: \n",
      "A value is trying to be set on a copy of a slice from a DataFrame.\n",
      "Try using .loc[row_indexer,col_indexer] = value instead\n",
      "\n",
      "See the caveats in the documentation: https://pandas.pydata.org/pandas-docs/stable/user_guide/indexing.html#returning-a-view-versus-a-copy\n",
      "  L1_data['Time(sec)'] = (L1_data['Time']-launch_time_utc).dt.total_seconds()\n"
     ]
    },
    {
     "name": "stdout",
     "output_type": "stream",
     "text": [
      "/Users/yuhungjui/GoogleDrive_CSU/Research/CSU_2021/PRECIP_2021/StormTracker/Data/L1_csv/precip21_2021050318.ST_2968.csv\n",
      "/Users/yuhungjui/GoogleDrive_CSU/Research/CSU_2021/PRECIP_2021/StormTracker/Data/L1_csv/precip21_2021050418.ST_2134.csv\n",
      "/Users/yuhungjui/GoogleDrive_CSU/Research/CSU_2021/PRECIP_2021/StormTracker/Data/L1_csv/precip21_2021050518.ST_2133.csv\n"
     ]
    },
    {
     "name": "stderr",
     "output_type": "stream",
     "text": [
      "/Users/yuhungjui/anaconda3/lib/python3.8/site-packages/pint/numpy_func.py:303: RuntimeWarning: divide by zero encountered in log\n",
      "  result_magnitude = func(*stripped_args, **stripped_kwargs)\n",
      "/Users/yuhungjui/anaconda3/lib/python3.8/site-packages/pint/quantity.py:1237: RuntimeWarning: invalid value encountered in true_divide\n",
      "  magnitude = magnitude_op(new_self._magnitude, other._magnitude)\n",
      "<ipython-input-66-eeb81d20a1fc>:27: SettingWithCopyWarning: \n",
      "A value is trying to be set on a copy of a slice from a DataFrame.\n",
      "Try using .loc[row_indexer,col_indexer] = value instead\n",
      "\n",
      "See the caveats in the documentation: https://pandas.pydata.org/pandas-docs/stable/user_guide/indexing.html#returning-a-view-versus-a-copy\n",
      "  L1_data['Time(sec)'] = (L1_data['Time']-launch_time_utc).dt.total_seconds()\n",
      "<ipython-input-66-eeb81d20a1fc>:27: SettingWithCopyWarning: \n",
      "A value is trying to be set on a copy of a slice from a DataFrame.\n",
      "Try using .loc[row_indexer,col_indexer] = value instead\n",
      "\n",
      "See the caveats in the documentation: https://pandas.pydata.org/pandas-docs/stable/user_guide/indexing.html#returning-a-view-versus-a-copy\n",
      "  L1_data['Time(sec)'] = (L1_data['Time']-launch_time_utc).dt.total_seconds()\n"
     ]
    },
    {
     "name": "stdout",
     "output_type": "stream",
     "text": [
      "/Users/yuhungjui/GoogleDrive_CSU/Research/CSU_2021/PRECIP_2021/StormTracker/Data/L1_csv/precip21_2021050818.ST_1841.csv\n",
      "/Users/yuhungjui/GoogleDrive_CSU/Research/CSU_2021/PRECIP_2021/StormTracker/Data/L1_csv/precip21_2021051618.ST_2130.csv\n"
     ]
    },
    {
     "name": "stderr",
     "output_type": "stream",
     "text": [
      "/Users/yuhungjui/anaconda3/lib/python3.8/site-packages/pint/numpy_func.py:303: RuntimeWarning: divide by zero encountered in log\n",
      "  result_magnitude = func(*stripped_args, **stripped_kwargs)\n",
      "/Users/yuhungjui/anaconda3/lib/python3.8/site-packages/pint/quantity.py:1237: RuntimeWarning: invalid value encountered in true_divide\n",
      "  magnitude = magnitude_op(new_self._magnitude, other._magnitude)\n",
      "<ipython-input-66-eeb81d20a1fc>:27: SettingWithCopyWarning: \n",
      "A value is trying to be set on a copy of a slice from a DataFrame.\n",
      "Try using .loc[row_indexer,col_indexer] = value instead\n",
      "\n",
      "See the caveats in the documentation: https://pandas.pydata.org/pandas-docs/stable/user_guide/indexing.html#returning-a-view-versus-a-copy\n",
      "  L1_data['Time(sec)'] = (L1_data['Time']-launch_time_utc).dt.total_seconds()\n",
      "<ipython-input-66-eeb81d20a1fc>:27: SettingWithCopyWarning: \n",
      "A value is trying to be set on a copy of a slice from a DataFrame.\n",
      "Try using .loc[row_indexer,col_indexer] = value instead\n",
      "\n",
      "See the caveats in the documentation: https://pandas.pydata.org/pandas-docs/stable/user_guide/indexing.html#returning-a-view-versus-a-copy\n",
      "  L1_data['Time(sec)'] = (L1_data['Time']-launch_time_utc).dt.total_seconds()\n"
     ]
    },
    {
     "name": "stdout",
     "output_type": "stream",
     "text": [
      "/Users/yuhungjui/GoogleDrive_CSU/Research/CSU_2021/PRECIP_2021/StormTracker/Data/L1_csv/precip21_2021052218.ST_2127.csv\n",
      "/Users/yuhungjui/GoogleDrive_CSU/Research/CSU_2021/PRECIP_2021/StormTracker/Data/L1_csv/precip21_2021052918.ST_1834.csv\n"
     ]
    },
    {
     "name": "stderr",
     "output_type": "stream",
     "text": [
      "/Users/yuhungjui/anaconda3/lib/python3.8/site-packages/pint/numpy_func.py:303: RuntimeWarning: divide by zero encountered in log\n",
      "  result_magnitude = func(*stripped_args, **stripped_kwargs)\n",
      "/Users/yuhungjui/anaconda3/lib/python3.8/site-packages/pint/quantity.py:1237: RuntimeWarning: invalid value encountered in true_divide\n",
      "  magnitude = magnitude_op(new_self._magnitude, other._magnitude)\n",
      "<ipython-input-66-eeb81d20a1fc>:27: SettingWithCopyWarning: \n",
      "A value is trying to be set on a copy of a slice from a DataFrame.\n",
      "Try using .loc[row_indexer,col_indexer] = value instead\n",
      "\n",
      "See the caveats in the documentation: https://pandas.pydata.org/pandas-docs/stable/user_guide/indexing.html#returning-a-view-versus-a-copy\n",
      "  L1_data['Time(sec)'] = (L1_data['Time']-launch_time_utc).dt.total_seconds()\n",
      "/Users/yuhungjui/anaconda3/lib/python3.8/site-packages/pint/numpy_func.py:303: RuntimeWarning: divide by zero encountered in log\n",
      "  result_magnitude = func(*stripped_args, **stripped_kwargs)\n",
      "/Users/yuhungjui/anaconda3/lib/python3.8/site-packages/pint/quantity.py:1237: RuntimeWarning: invalid value encountered in true_divide\n",
      "  magnitude = magnitude_op(new_self._magnitude, other._magnitude)\n",
      "<ipython-input-66-eeb81d20a1fc>:27: SettingWithCopyWarning: \n",
      "A value is trying to be set on a copy of a slice from a DataFrame.\n",
      "Try using .loc[row_indexer,col_indexer] = value instead\n",
      "\n",
      "See the caveats in the documentation: https://pandas.pydata.org/pandas-docs/stable/user_guide/indexing.html#returning-a-view-versus-a-copy\n",
      "  L1_data['Time(sec)'] = (L1_data['Time']-launch_time_utc).dt.total_seconds()\n"
     ]
    },
    {
     "name": "stdout",
     "output_type": "stream",
     "text": [
      "/Users/yuhungjui/GoogleDrive_CSU/Research/CSU_2021/PRECIP_2021/StormTracker/Data/L1_csv/precip21_2021060518.ST_2132.csv\n",
      "/Users/yuhungjui/GoogleDrive_CSU/Research/CSU_2021/PRECIP_2021/StormTracker/Data/L1_csv/precip21_2021060618.ST_2136.csv\n"
     ]
    },
    {
     "name": "stderr",
     "output_type": "stream",
     "text": [
      "/Users/yuhungjui/anaconda3/lib/python3.8/site-packages/pint/numpy_func.py:303: RuntimeWarning: divide by zero encountered in log\n",
      "  result_magnitude = func(*stripped_args, **stripped_kwargs)\n",
      "/Users/yuhungjui/anaconda3/lib/python3.8/site-packages/pint/quantity.py:1237: RuntimeWarning: invalid value encountered in true_divide\n",
      "  magnitude = magnitude_op(new_self._magnitude, other._magnitude)\n",
      "<ipython-input-66-eeb81d20a1fc>:27: SettingWithCopyWarning: \n",
      "A value is trying to be set on a copy of a slice from a DataFrame.\n",
      "Try using .loc[row_indexer,col_indexer] = value instead\n",
      "\n",
      "See the caveats in the documentation: https://pandas.pydata.org/pandas-docs/stable/user_guide/indexing.html#returning-a-view-versus-a-copy\n",
      "  L1_data['Time(sec)'] = (L1_data['Time']-launch_time_utc).dt.total_seconds()\n",
      "/Users/yuhungjui/anaconda3/lib/python3.8/site-packages/pint/numpy_func.py:303: RuntimeWarning: divide by zero encountered in log\n",
      "  result_magnitude = func(*stripped_args, **stripped_kwargs)\n",
      "/Users/yuhungjui/anaconda3/lib/python3.8/site-packages/pint/quantity.py:1237: RuntimeWarning: invalid value encountered in true_divide\n",
      "  magnitude = magnitude_op(new_self._magnitude, other._magnitude)\n",
      "<ipython-input-66-eeb81d20a1fc>:27: SettingWithCopyWarning: \n",
      "A value is trying to be set on a copy of a slice from a DataFrame.\n",
      "Try using .loc[row_indexer,col_indexer] = value instead\n",
      "\n",
      "See the caveats in the documentation: https://pandas.pydata.org/pandas-docs/stable/user_guide/indexing.html#returning-a-view-versus-a-copy\n",
      "  L1_data['Time(sec)'] = (L1_data['Time']-launch_time_utc).dt.total_seconds()\n"
     ]
    },
    {
     "name": "stdout",
     "output_type": "stream",
     "text": [
      "/Users/yuhungjui/GoogleDrive_CSU/Research/CSU_2021/PRECIP_2021/StormTracker/Data/L1_csv/precip21_2021062018.ST_1842.csv\n",
      "/Users/yuhungjui/GoogleDrive_CSU/Research/CSU_2021/PRECIP_2021/StormTracker/Data/L1_csv/precip21_2021062418.ST_1840.csv\n",
      "/Users/yuhungjui/GoogleDrive_CSU/Research/CSU_2021/PRECIP_2021/StormTracker/Data/L1_csv/precip21_2021062518.ST_1838.csv\n",
      "Process Time: 0.353421 Sec\n"
     ]
    },
    {
     "name": "stderr",
     "output_type": "stream",
     "text": [
      "/Users/yuhungjui/anaconda3/lib/python3.8/site-packages/pint/numpy_func.py:303: RuntimeWarning: divide by zero encountered in log\n",
      "  result_magnitude = func(*stripped_args, **stripped_kwargs)\n",
      "/Users/yuhungjui/anaconda3/lib/python3.8/site-packages/pint/quantity.py:1237: RuntimeWarning: invalid value encountered in true_divide\n",
      "  magnitude = magnitude_op(new_self._magnitude, other._magnitude)\n",
      "<ipython-input-66-eeb81d20a1fc>:27: SettingWithCopyWarning: \n",
      "A value is trying to be set on a copy of a slice from a DataFrame.\n",
      "Try using .loc[row_indexer,col_indexer] = value instead\n",
      "\n",
      "See the caveats in the documentation: https://pandas.pydata.org/pandas-docs/stable/user_guide/indexing.html#returning-a-view-versus-a-copy\n",
      "  L1_data['Time(sec)'] = (L1_data['Time']-launch_time_utc).dt.total_seconds()\n"
     ]
    }
   ],
   "source": [
    "# %%\n",
    "# MAIN PROGRAM:\n",
    "t_start = time.process_time()\n",
    "\n",
    "ST_info = read_in_ST_info(ST_info_file)\n",
    "\n",
    "for index, row in ST_info.iterrows():\n",
    "\n",
    "    if dt.datetime.strptime(str(row['Date']), '%Y%m%d') <= final_date:\n",
    "        \n",
    "        log_launchT = str(row['Date']) + str(row['Launch_T'])[:6]\n",
    "        \n",
    "        st_file_date_path = ST_L0_file_path + '/{}'.format(str(row['Date']))\n",
    "\n",
    "        loaded_ST_file = load_st_file(str(row['ST_No'])[:4], log_launchT, st_file_date_path)\n",
    "        \n",
    "        L1_data = conversion_L0_L1(loaded_ST_file)\n",
    "        \n",
    "        L1_output_name = output_path + '/precip21_{}.ST_{}.csv'.format(str(row['Date']) + str(row['Nominal_T']), str(row['ST_No'])[:4])\n",
    "        output_L1(loaded_ST_file, L1_data, L1_output_name)\n",
    "        \n",
    "        print(L1_output_name)\n",
    "\n",
    "t_finish = time.process_time()\n",
    "print('Process Time: %f Sec' % (t_finish - t_start))"
   ]
  },
  {
   "cell_type": "code",
   "execution_count": null,
   "id": "6758819c",
   "metadata": {},
   "outputs": [],
   "source": []
  }
 ],
 "metadata": {
  "kernelspec": {
   "display_name": "Python 3",
   "language": "python",
   "name": "python3"
  },
  "language_info": {
   "codemirror_mode": {
    "name": "ipython",
    "version": 3
   },
   "file_extension": ".py",
   "mimetype": "text/x-python",
   "name": "python",
   "nbconvert_exporter": "python",
   "pygments_lexer": "ipython3",
   "version": "3.8.10"
  }
 },
 "nbformat": 4,
 "nbformat_minor": 5
}
