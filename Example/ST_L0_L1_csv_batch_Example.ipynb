{
 "cells": [
  {
   "cell_type": "markdown",
   "id": "d7c28eb6",
   "metadata": {},
   "source": [
    "<br>Transform Storm Tracker L0 data to L1 csv format file (batch mode).<br>\n",
    "Hungjui Yu<br>\n",
    "20210715<br>"
   ]
  },
  {
   "cell_type": "code",
   "execution_count": 21,
   "id": "f4c317a4",
   "metadata": {},
   "outputs": [
    {
     "name": "stdout",
     "output_type": "stream",
     "text": [
      "Once deleted, variables cannot be recovered. Proceed (y/[n])? y\n"
     ]
    }
   ],
   "source": [
    "%reset\n",
    "\n",
    "import pandas as pd\n",
    "import datetime as dt\n",
    "import pytz\n",
    "# import metpy.calc as mpcalc\n",
    "from metpy.calc import dewpoint_from_relative_humidity\n",
    "from metpy.units import units"
   ]
  },
  {
   "cell_type": "code",
   "execution_count": 24,
   "id": "f736ddbd",
   "metadata": {},
   "outputs": [],
   "source": [
    "# # Set ST node number:\n",
    "# ST_no = 2968\n",
    "\n",
    "# # Set ST launch time (UTC):\n",
    "# launch_time_from_log = '20210503184852'\n",
    "\n",
    "# # Set ST files path:\n",
    "# ST_file_path = './'\n",
    "\n",
    "# Set ST_info file path:\n",
    "# ST_info_file = './log_online.xlsx'\n",
    "ST_info_file = './log_online - PRE-CIP_2021_ST_log.csv'"
   ]
  },
  {
   "cell_type": "code",
   "execution_count": 25,
   "id": "836aab8b",
   "metadata": {},
   "outputs": [],
   "source": [
    "# Set output path:\n",
    "\n",
    "output_path = '/Users/yuhungjui/GoogleDrive_CSU/Research/CSU_2021/PRECIP_2021/StormTracker/Data/L1_csv'\n",
    "\n",
    "# Set final date of launches:\n",
    "\n",
    "final_date = dt.datetime(2021,7,9)\n"
   ]
  },
  {
   "cell_type": "code",
   "execution_count": 26,
   "id": "5ddc3fc1",
   "metadata": {},
   "outputs": [],
   "source": [
    "def read_in_ST_info(log_file):\n",
    "    \n",
    "    # ST_log = pd.read_excel(log_file)\n",
    "    # ST_log = pd.read_excel(log_file, engine='openpyxl')\n",
    "    ST_log = pd.read_csv(log_file)\n",
    "    \n",
    "    return ST_log\n",
    "\n",
    "ST_info = read_in_ST_info(ST_info_file)\n",
    "\n",
    "# print(type(ST_info))"
   ]
  },
  {
   "cell_type": "code",
   "execution_count": 46,
   "id": "206b3681",
   "metadata": {},
   "outputs": [
    {
     "name": "stdout",
     "output_type": "stream",
     "text": [
      "20210503 184852.0\n",
      "20210504 191040.0\n",
      "20210505 183107.0\n",
      "20210508 175226.0\n",
      "20210516 182410.0\n",
      "20210522 183850.0\n",
      "20210529 182531.0\n",
      "20210605 182251.0\n",
      "20210606 173527.0\n",
      "20210620 175837.0\n",
      "20210624 175320.0\n",
      "20210625 173800.0\n",
      "20210626 174122.0\n",
      "20210627 173943.0\n",
      "20210628 175003.0\n",
      "20210630 175502.0\n",
      "20210701 174039.0\n",
      "20210701 203903.0\n",
      "20210702 180501.0\n",
      "20210703 180530.0\n",
      "20210705 180208.0\n",
      "20210705 204640.0\n",
      "20210709 183337.0\n"
     ]
    }
   ],
   "source": [
    "# ST_info.head()\n",
    "# ST_info['Date']\n",
    "# print(str(ST_info['Date'][0]))\n",
    "# print(dt.datetime.strptime(str(ST_info['Date'][0]), '%Y%m%d'))\n",
    "\n",
    "\n",
    "\n",
    "for index, row in ST_info.iterrows():\n",
    "    \n",
    "    if dt.datetime.strptime(str(row['Date']), '%Y%m%d') <= final_date:\n",
    "        \n",
    "        print(row['Date'],row['Launch_T'])"
   ]
  },
  {
   "cell_type": "code",
   "execution_count": 14,
   "id": "ff67edea",
   "metadata": {},
   "outputs": [],
   "source": [
    "def load_st_file(ST_no, launch_time_from_log, ST_file_path):    \n",
    "    \n",
    "    # Specified timezones:\n",
    "    # pytz.all_timezones\n",
    "    tz_utc = pytz.timezone('UTC')\n",
    "    tz_fc = pytz.timezone('US/Mountain')\n",
    "\n",
    "    # Specified the launch time in UTC:\n",
    "    launch_time = datetime.strptime(launch_time_from_log, '%Y%m%d%H%M%S')\n",
    "    launch_time_utc = tz_utc.localize(launch_time)\n",
    "\n",
    "    # print(launch_time_utc)\n",
    "    # print(launch_time_from_log[:8])\n",
    "    \n",
    "    # Load raw data:\n",
    "    L0_raw_data = pd.read_csv(ST_file_path + '/no_{}.csv'.format(ST_no))\n",
    "    \n",
    "    return launch_time_utc, L0_raw_data"
   ]
  },
  {
   "cell_type": "code",
   "execution_count": 15,
   "id": "94296843",
   "metadata": {},
   "outputs": [],
   "source": [
    "def conversion_L0_L1(loaded_ST_file):\n",
    "\n",
    "    launch_time_utc = loaded_ST_file[0]\n",
    "    L0_raw_data = loaded_ST_file[1]\n",
    "    \n",
    "    tz_utc = pytz.timezone('UTC')\n",
    "\n",
    "    # Convert the data time to datetime object:\n",
    "    L0_raw_data['Time'] = pd.to_datetime(L0_raw_data['Time'], utc=tz_utc)\n",
    "\n",
    "    # Calculate dew-point temperature in raw data:\n",
    "    L0_raw_data['dT(degC)'] = dewpoint_from_relative_humidity((L0_raw_data['Temperature(degree C)'].to_numpy() * units.degC).to(units.K), L0_raw_data['Humidity(%)'].to_numpy() / 100.)\n",
    "\n",
    "    # Convert wind speed in raw data:\n",
    "    # L0_raw_data['WS(kts)'] = (L0_raw_data['Speed(km/hr)'].to_numpy() * units.kilometer_per_hour).to(units.knot)\n",
    "    L0_raw_data['WS(m/s)'] = (L0_raw_data['Speed(km/hr)'].to_numpy() * units.kilometer_per_hour).to(units.meter_per_second)\n",
    "\n",
    "    # Convert wind direction in raw data:\n",
    "    L0_raw_data.loc[L0_raw_data['Direction(degree)'] <= 180, 'WDIR'] = L0_raw_data['Direction(degree)'] + 180\n",
    "    L0_raw_data.loc[L0_raw_data['Direction(degree)'] > 180, 'WDIR'] = L0_raw_data['Direction(degree)'] - 180\n",
    "    L0_raw_data.loc[L0_raw_data['Speed(km/hr)'] == 0, 'WDIR'] = 0\n",
    "    \n",
    "    # Find the index of launch time and convert L0 to L1 data:\n",
    "    L1_data = L0_raw_data[L0_raw_data['Time'] >= launch_time_utc]\n",
    "    \n",
    "    # Set Time(sec) in L1 data:\n",
    "    L1_data['Time(sec)'] = (L1_data['Time']-launch_time_utc).dt.total_seconds()\n",
    "    \n",
    "    return L1_data"
   ]
  },
  {
   "cell_type": "code",
   "execution_count": 16,
   "id": "ea62dd3d",
   "metadata": {},
   "outputs": [],
   "source": [
    "def output_L1():\n",
    "\n",
    "    # Output L1 data (csv format):\n",
    "\n",
    "    L1_csv_filename = 'no_{}_L1_aspen.csv'.format(ST_no)\n",
    "\n",
    "    with open(L1_csv_filename, 'w') as file:\n",
    "\n",
    "        # Required fields:\n",
    "        file.write('FileFormat,CSV\\n')\n",
    "        file.write('Year,{}\\n'.format(loaded_ST_file[0].year))\n",
    "        file.write('Month,{:02d}\\n'.format(loaded_ST_file[0].month))\n",
    "        file.write('Day,{:02d}\\n'.format(loaded_ST_file[0].day))\n",
    "        file.write('Hour,{:02d}\\n'.format(loaded_ST_file[0].hour))\n",
    "        file.write('Minute,{:02d}\\n'.format(loaded_ST_file[0].minute))\n",
    "        file.write('Second,{:02d}\\n'.format(loaded_ST_file[0].second))\n",
    "\n",
    "        file.write('Ascending,\"true\"\\n')\n",
    "\n",
    "        # Optional fields:\n",
    "        file.write('latitude,40.590000,\"units=deg\"\\n')\n",
    "        file.write('longitude,-105.141500,\"units=deg\"\\n')\n",
    "        file.write('altitude,1571.9,\"units=m\"\\n')\n",
    "        file.write('gpsaltitude,1571.9,\"units=m\"\\n')\n",
    "        file.write('project,\"PRE-CIP-2021\"\\n')\n",
    "        file.write('agency,\"CSU\"\\n')\n",
    "        file.write('sondeid,\"{}\"\\n'.format(ST_no))\n",
    "        file.write('sondetype,\"Storm Tracker\"\\n')\n",
    "        file.write('launchsite,\"Christman Field\"\\n')\n",
    "\n",
    "        # Data headers:\n",
    "        file.write('Fields,Time,Pressure,Temperature,RH,Speed,Direction,Latitude,Longitude,Altitude,gpsalt\\n')\n",
    "        file.write('Units,sec,mb,deg C,%,m/s,deg,deg,deg,m,m\\n')\n",
    "\n",
    "        # Data fields:\n",
    "\n",
    "        for index, row in L1_data.iterrows():\n",
    "\n",
    "            file.write('Data,%6.1f,%7.2f,%5.2f,%5.2f,%6.2f,%6.2f,%9.5f,%9.5f,,%7.1f\\n'\\\n",
    "                       % (row['Time(sec)']\\\n",
    "                        , row['Pressure(hPa)']\\\n",
    "                        , row['Temperature(degree C)']\\\n",
    "                        , row['Humidity(%)']\\\n",
    "                        , row['WS(m/s)']\\\n",
    "                        , row['Direction(degree)']\\\n",
    "                        , row['Lat']\\\n",
    "                        , row['Lon']\\\n",
    "                        , row['Height(m)']\\\n",
    "                         )\\\n",
    "                      )"
   ]
  },
  {
   "cell_type": "code",
   "execution_count": null,
   "id": "41a60212",
   "metadata": {},
   "outputs": [],
   "source": []
  }
 ],
 "metadata": {
  "kernelspec": {
   "display_name": "Python 3",
   "language": "python",
   "name": "python3"
  },
  "language_info": {
   "codemirror_mode": {
    "name": "ipython",
    "version": 3
   },
   "file_extension": ".py",
   "mimetype": "text/x-python",
   "name": "python",
   "nbconvert_exporter": "python",
   "pygments_lexer": "ipython3",
   "version": "3.8.10"
  }
 },
 "nbformat": 4,
 "nbformat_minor": 5
}
